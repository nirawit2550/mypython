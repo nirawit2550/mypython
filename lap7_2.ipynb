{
 "cells": [
  {
   "cell_type": "code",
   "execution_count": 4,
   "metadata": {},
   "outputs": [],
   "source": [
    "import tkinter as tk\n",
    "app = tk.Tk()\n",
    "app.geometry()\n",
    "def showme(n):\n",
    "    print(n)\n",
    "\n",
    "app.title('nirawit')\n",
    "label = tk.label(text=\"ชื่อพนักงาน:\")\n",
    "ืname = tk.Entry()\n",
    "label12 = tk.label(text=\"เงินเดือน:\")\n",
    "\n",
    "btn = tk.Button(text=\"คลิก\", command=showme(name))\n",
    "\n",
    "#name.pack\n",
    "#btn.pack()\n",
    "#label.pack()\n",
    "label.place(x=50,y=50)\n",
    "name.place(x=150, y=50)\n",
    "label12.place(x=50,y=100)\n",
    "name.place(x=150, y=100)\n",
    "btn.place(x=50,y=100)\n",
    "app.mainloop()"
   ]
  }
 ],
 "metadata": {
  "kernelspec": {
   "display_name": "Python 3",
   "language": "python",
   "name": "python3"
  },
  "language_info": {
   "codemirror_mode": {
    "name": "ipython",
    "version": 3
   },
   "file_extension": ".py",
   "mimetype": "text/x-python",
   "name": "python",
   "nbconvert_exporter": "python",
   "pygments_lexer": "ipython3",
   "version": "3.12.4"
  }
 },
 "nbformat": 4,
 "nbformat_minor": 2
}
