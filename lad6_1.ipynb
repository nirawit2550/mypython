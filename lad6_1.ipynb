{
 "cells": [
  {
   "cell_type": "code",
   "execution_count": 9,
   "metadata": {},
   "outputs": [
    {
     "name": "stdout",
     "output_type": "stream",
     "text": [
      "hello \n"
     ]
    }
   ],
   "source": [
    "print(\"hello \")\n"
   ]
  },
  {
   "cell_type": "code",
   "execution_count": 10,
   "metadata": {},
   "outputs": [
    {
     "name": "stdout",
     "output_type": "stream",
     "text": [
      "30\n"
     ]
    }
   ],
   "source": [
    "a = 10\n",
    "d = 20\n",
    "print(a+d)"
   ]
  },
  {
   "cell_type": "code",
   "execution_count": 11,
   "metadata": {},
   "outputs": [
    {
     "name": "stdout",
     "output_type": "stream",
     "text": [
      "hello 0\n",
      "hello 1\n",
      "hello 2\n",
      "hello 3\n",
      "hello 4\n",
      "hello 5\n",
      "hello 6\n",
      "hello 7\n",
      "hello 8\n",
      "hello 9\n"
     ]
    }
   ],
   "source": [
    "for i in range(10):\n",
    "    print(\"hello %d\" %i)"
   ]
  },
  {
   "cell_type": "code",
   "execution_count": 12,
   "metadata": {},
   "outputs": [
    {
     "name": "stdout",
     "output_type": "stream",
     "text": [
      "68.0\n",
      "293.15\n"
     ]
    }
   ],
   "source": [
    "def fa(C):\n",
    "\n",
    "    fa = 9/5*c+32\n",
    " \n",
    "    return fa\n",
    "\n",
    "def ka(C):\n",
    "    ka = c+273.15\n",
    "    return ka\n",
    "\n",
    "\n",
    "c = float(input(\"องศาC\"))\n",
    "print(fa(c))\n",
    "print(ka(c))"
   ]
  },
  {
   "cell_type": "code",
   "execution_count": 14,
   "metadata": {},
   "outputs": [],
   "source": [
    "def get (sco):\n",
    "    \n",
    "    t = float(input(\"รับคะเเนนเก็บ\"))\n",
    "    \n",
    "    return t   \n",
    "\n",
    "def jet (g):\n",
    "    \n",
    "    e = float(input(\"รับคะเเนนจิตพิสัย\"))\n",
    "    \n",
    "    return e\n",
    "\n",
    "def mid (h):\n",
    "   \n",
    "    r = float(input(\"รับคะเเนนกลางภาค\"))\n",
    "    \n",
    "    return r"
   ]
  }
 ],
 "metadata": {
  "kernelspec": {
   "display_name": "Python 3",
   "language": "python",
   "name": "python3"
  },
  "language_info": {
   "codemirror_mode": {
    "name": "ipython",
    "version": 3
   },
   "file_extension": ".py",
   "mimetype": "text/x-python",
   "name": "python",
   "nbconvert_exporter": "python",
   "pygments_lexer": "ipython3",
   "version": "3.12.4"
  }
 },
 "nbformat": 4,
 "nbformat_minor": 2
}
