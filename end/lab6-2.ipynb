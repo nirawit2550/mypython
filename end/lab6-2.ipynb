{
 "cells": [
  {
   "cell_type": "code",
   "execution_count": 1,
   "metadata": {},
   "outputs": [
    {
     "name": "stdout",
     "output_type": "stream",
     "text": [
      "69.0\n"
     ]
    }
   ],
   "source": [
    "def sco (k,j,m):\n",
    "\n",
    "    v = k+j+m\n",
    "    return v\n",
    "\n",
    "\n",
    "k = float(input(\"รับคะเเนนเก็บ\"))\n",
    "\n",
    "j = float(input(\"รับคะเเนนจิตพิสัย\"))\n",
    "\n",
    "m = float(input(\"รับคะเเนนกลางภาค\"))\n",
    "\n",
    "print(sco(k,j,m))\n",
    "\n",
    "\n",
    "\n",
    "\n",
    "\n"
   ]
  },
  {
   "cell_type": "code",
   "execution_count": 30,
   "metadata": {},
   "outputs": [
    {
     "name": "stdout",
     "output_type": "stream",
     "text": [
      "30.0\n"
     ]
    }
   ],
   "source": [
    "def get():\n",
    "    \n",
    "    t = float(input(\"รับคะเเนนเก็บ\"))\n",
    "    \n",
    "    return t   \n",
    "\n",
    "def jet():\n",
    "    \n",
    "    e = float(input(\"รับคะเเนนจิตพิสัย\"))\n",
    "    \n",
    "    return e\n",
    "\n",
    "def mid():\n",
    "   \n",
    "    r = float(input(\"รับคะเเนนกลางภาค\"))\n",
    "    \n",
    "    return r\n",
    "\n",
    "print(get()+jet()+mid())"
   ]
  }
 ],
 "metadata": {
  "kernelspec": {
   "display_name": "Python 3",
   "language": "python",
   "name": "python3"
  },
  "language_info": {
   "codemirror_mode": {
    "name": "ipython",
    "version": 3
   },
   "file_extension": ".py",
   "mimetype": "text/x-python",
   "name": "python",
   "nbconvert_exporter": "python",
   "pygments_lexer": "ipython3",
   "version": "3.12.4"
  }
 },
 "nbformat": 4,
 "nbformat_minor": 2
}
